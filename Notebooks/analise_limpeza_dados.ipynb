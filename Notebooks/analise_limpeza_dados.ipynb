{
 "cells": [
  {
   "cell_type": "markdown",
   "metadata": {
    "id": "iOgFlg0Swh47"
   },
   "source": [
    "**Analise e Limpeza dos Dados**\n"
   ]
  },
  {
   "cell_type": "code",
   "execution_count": 33,
   "metadata": {
    "id": "Jkw18G1DqFxR"
   },
   "outputs": [],
   "source": [
    "import pandas as pd\n",
    "import re\n",
    "import datetime as dt"
   ]
  },
  {
   "cell_type": "code",
   "execution_count": 2,
   "metadata": {
    "id": "7sP0pk3IwwG-"
   },
   "outputs": [],
   "source": [
    "Data_Frame_Dados_Economia_Final = pd.read_csv('df_dados_economia.csv')"
   ]
  },
  {
   "cell_type": "code",
   "execution_count": null,
   "metadata": {
    "id": "X0sMDV_Axy8r"
   },
   "outputs": [],
   "source": [
    "Data_Frame_Dados_Economia_Final.head(5)"
   ]
  },
  {
   "cell_type": "code",
   "execution_count": null,
   "metadata": {
    "id": "oYCHX4Xwx-GZ"
   },
   "outputs": [],
   "source": [
    "Data_Frame_Dados_Economia_Final.info()"
   ]
  },
  {
   "cell_type": "code",
   "execution_count": null,
   "metadata": {
    "id": "DGr9uPzgzRPi"
   },
   "outputs": [],
   "source": [
    "Data_Frame_Dados_Economia_Final.isnull().sum()"
   ]
  },
  {
   "cell_type": "code",
   "execution_count": 6,
   "metadata": {
    "id": "66Kbm2Q9zRXY"
   },
   "outputs": [],
   "source": [
    "Data_Frame_Dados_Economia_Final['Tweets_Tratados']= Data_Frame_Dados_Economia_Final['Tweets']"
   ]
  },
  {
   "cell_type": "code",
   "execution_count": 7,
   "metadata": {
    "id": "PXqxTKZTzRdE"
   },
   "outputs": [],
   "source": [
    "def limpeza_dados (Tweets):\n",
    "  Tweets = Tweets.lower()\n",
    "  Tweets = re.sub('\\n','', Tweets) \n",
    "  Tweets = re.sub('@[^\\s]+','', Tweets)\n",
    "  Tweets = re.sub('\\B#\\S+', '', Tweets)\n",
    "  Tweets = re.sub('\"[~´`]', '', Tweets)\n",
    "  Tweets = re.sub('https?://\\S+|www\\.\\S+','', Tweets)\n",
    "  return Tweets"
   ]
  },
  {
   "cell_type": "code",
   "execution_count": 8,
   "metadata": {
    "id": "bwkjrhXXFS1n"
   },
   "outputs": [],
   "source": [
    "def remove_emojis(Tweets):\n",
    "    emoj = re.compile(\"[\"\n",
    "        u\"\\U0001F600-\\U0001F64F\" \n",
    "        u\"\\U0001F300-\\U0001F5FF\"  \n",
    "        u\"\\U0001F680-\\U0001F6FF\" \n",
    "        u\"\\U0001F1E0-\\U0001F1FF\"  \n",
    "        u\"\\U00002500-\\U00002BEF\"  \n",
    "        u\"\\U00002702-\\U000027B0\"\n",
    "        u\"\\U00002702-\\U000027B0\"\n",
    "        u\"\\U000024C2-\\U0001F251\"\n",
    "        u\"\\U0001f926-\\U0001f937\"\n",
    "        u\"\\U00010000-\\U0010ffff\"\n",
    "        u\"\\u2640-\\u2642\" \n",
    "        u\"\\u2600-\\u2B55\"\n",
    "        u\"\\u200d\"\n",
    "        u\"\\u23cf\"\n",
    "        u\"\\u23e9\"\n",
    "        u\"\\u231a\"\n",
    "        u\"\\ufe0f\"  \n",
    "        u\"\\u3030\"\n",
    "                      \"]+\", re.UNICODE)\n",
    "    return re.sub(emoj, '', Tweets)"
   ]
  },
  {
   "cell_type": "code",
   "execution_count": null,
   "metadata": {
    "id": "TCh-rbNlp5U5",
    "scrolled": false
   },
   "outputs": [],
   "source": [
    "datas_df = Data_Frame_Dados_Economia_Final[['Data_Hora']]\n",
    "datas = []\n",
    "horas_i = []\n",
    "for i in datas_df['Data_Hora']:\n",
    "    data, hora_inicio = i.split(' ')\n",
    "    datas.append(data[0:10])\n",
    "    horas_i.append(hora_inicio[:2])\n"
   ]
  },
  {
   "cell_type": "code",
   "execution_count": 10,
   "metadata": {
    "id": "Nii-wvhAWmUK"
   },
   "outputs": [],
   "source": [
    "Data_Frame_Dados_Economia_Final['Tweets_Tratados']= Data_Frame_Dados_Economia_Final['Tweets'].apply(lambda i: limpeza_dados(i))"
   ]
  },
  {
   "cell_type": "code",
   "execution_count": 11,
   "metadata": {
    "id": "kdu6LP8oFqNd"
   },
   "outputs": [],
   "source": [
    "Data_Frame_Dados_Economia_Final['Tweets_Tratados']= Data_Frame_Dados_Economia_Final['Tweets'].apply(lambda i: remove_emojis(i))"
   ]
  },
  {
   "cell_type": "code",
   "execution_count": 12,
   "metadata": {
    "id": "5-kYDHhUp5U8"
   },
   "outputs": [],
   "source": [
    "Data_Frame_Dados_Economia_Final['Hora']= horas_i"
   ]
  },
  {
   "cell_type": "code",
   "execution_count": 32,
   "metadata": {},
   "outputs": [],
   "source": [
    "Data_Frame_Dados_Economia_Final['Data']=datas"
   ]
  },
  {
   "cell_type": "code",
   "execution_count": null,
   "metadata": {
    "id": "f_QMY6zFWmdC"
   },
   "outputs": [],
   "source": [
    "Data_Frame_Dados_Economia_Final.isnull().sum()"
   ]
  },
  {
   "cell_type": "code",
   "execution_count": 15,
   "metadata": {
    "id": "dnZ6XSnldBGg"
   },
   "outputs": [],
   "source": [
    "Data_Frame_Dados_Economia_Final.to_csv('df_analytics_sentiment.csv', sep= ',', index=False, )"
   ]
  },
  {
   "cell_type": "code",
   "execution_count": null,
   "metadata": {
    "id": "weJvlYD0Di00"
   },
   "outputs": [],
   "source": [
    "pd.read_csv('df_analytics_sentiment.csv')"
   ]
  },
  {
   "cell_type": "code",
   "execution_count": 17,
   "metadata": {
    "id": "a5octefYGTK8"
   },
   "outputs": [],
   "source": [
    "DF_Analytics_Sentiment = pd.read_csv('df_analytics_sentiment.csv')"
   ]
  },
  {
   "cell_type": "code",
   "execution_count": null,
   "metadata": {
    "id": "aAGi6ZaZGzab"
   },
   "outputs": [],
   "source": [
    "DF_Analytics_Sentiment.isnull().sum()"
   ]
  },
  {
   "cell_type": "markdown",
   "metadata": {
    "id": "Me2y2lDNwhZM"
   },
   "source": []
  }
 ],
 "metadata": {
  "colab": {
   "provenance": []
  },
  "kernelspec": {
   "display_name": "Python 3 (ipykernel)",
   "language": "python",
   "name": "python3"
  },
  "language_info": {
   "codemirror_mode": {
    "name": "ipython",
    "version": 3
   },
   "file_extension": ".py",
   "mimetype": "text/x-python",
   "name": "python",
   "nbconvert_exporter": "python",
   "pygments_lexer": "ipython3",
   "version": "3.9.2"
  }
 },
 "nbformat": 4,
 "nbformat_minor": 1
}
