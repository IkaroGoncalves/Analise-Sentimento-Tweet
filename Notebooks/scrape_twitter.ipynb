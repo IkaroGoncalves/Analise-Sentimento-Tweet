{
 "cells": [
  {
   "cell_type": "markdown",
   "metadata": {
    "colab": {
     "base_uri": "https://localhost:8080/"
    },
    "executionInfo": {
     "elapsed": 4684,
     "status": "ok",
     "timestamp": 1682178472034,
     "user": {
      "displayName": "Ikaro Gonçalves",
      "userId": "02612895897293769036"
     },
     "user_tz": 180
    },
    "id": "pS-J9g_mZxtY",
    "outputId": "02b1e2dd-ae52-4b70-cc74-444a9332e749"
   },
   "source": [
    "**Raspagem dos dados**"
   ]
  },
  {
   "cell_type": "code",
   "execution_count": null,
   "metadata": {},
   "outputs": [],
   "source": [
    "pip install snscrape"
   ]
  },
  {
   "cell_type": "code",
   "execution_count": 49,
   "metadata": {
    "executionInfo": {
     "elapsed": 12,
     "status": "ok",
     "timestamp": 1682178474261,
     "user": {
      "displayName": "Ikaro Gonçalves",
      "userId": "02612895897293769036"
     },
     "user_tz": 180
    },
    "id": "kSf0GQjJf_pS"
   },
   "outputs": [],
   "source": [
    "import snscrape.modules.twitter as sntwitter\n",
    "import pandas as pd\n",
    "import datetime as dt"
   ]
  },
  {
   "cell_type": "code",
   "execution_count": 51,
   "metadata": {
    "executionInfo": {
     "elapsed": 420,
     "status": "ok",
     "timestamp": 1682178482733,
     "user": {
      "displayName": "Ikaro Gonçalves",
      "userId": "02612895897293769036"
     },
     "user_tz": 180
    },
    "id": "X3ae0JiyZx0v"
   },
   "outputs": [],
   "source": [
    "maximo_de_tweets = 500"
   ]
  },
  {
   "cell_type": "code",
   "execution_count": 52,
   "metadata": {
    "executionInfo": {
     "elapsed": 12,
     "status": "ok",
     "timestamp": 1682178484948,
     "user": {
      "displayName": "Ikaro Gonçalves",
      "userId": "02612895897293769036"
     },
     "user_tz": 180
    },
    "id": "-UQE0PtST7gY"
   },
   "outputs": [],
   "source": [
    "hoje = dt.datetime.now()\n",
    "hoje = (hoje.date())"
   ]
  },
  {
   "cell_type": "code",
   "execution_count": null,
   "metadata": {
    "id": "LK-BUy7OZx48"
   },
   "outputs": [],
   "source": [
    "tweets_economia = []"
   ]
  },
  {
   "cell_type": "code",
   "execution_count": null,
   "metadata": {
    "id": "ScUgfUT5Sq3M"
   },
   "outputs": [],
   "source": [
    "for i, tweet in enumerate (sntwitter.TwitterSearchScraper(f'Economia Brasil since: {hoje} until: {hoje}').get_items()):\n",
    "  if i >= maximo_de_tweets:\n",
    "    break\n",
    "  tweets_economia.append([tweet.date, tweet.id, tweet.content])"
   ]
  },
  {
   "cell_type": "code",
   "execution_count": null,
   "metadata": {
    "colab": {
     "base_uri": "https://localhost:8080/"
    },
    "executionInfo": {
     "elapsed": 311,
     "status": "ok",
     "timestamp": 1682176622367,
     "user": {
      "displayName": "Ikaro Gonçalves",
      "userId": "02612895897293769036"
     },
     "user_tz": 180
    },
    "id": "EjM8Mu_yZx_s",
    "outputId": "48ccfd63-5b51-4641-da0f-66b60d22ab45"
   },
   "outputs": [],
   "source": [
    "tweets_economia"
   ]
  },
  {
   "cell_type": "code",
   "execution_count": null,
   "metadata": {
    "id": "TTkBN5ETZyC9"
   },
   "outputs": [],
   "source": [
    "Df_Economia = pd.DataFrame(tweets_economia, columns = ['Data_Hora', 'ID', 'Tweets'])"
   ]
  },
  {
   "cell_type": "code",
   "execution_count": null,
   "metadata": {
    "id": "Q-8FlFQtZyGF"
   },
   "outputs": [],
   "source": [
    "Df_Economia.head()"
   ]
  },
  {
   "cell_type": "code",
   "execution_count": null,
   "metadata": {
    "id": "2Juvx2OfZyJd"
   },
   "outputs": [],
   "source": [
    "Df_Economia_Dados = Df_Economia.to_csv('df_dados_economia.csv', sep = ',', index = False)"
   ]
  }
 ],
 "metadata": {
  "colab": {
   "provenance": []
  },
  "kernelspec": {
   "display_name": "Python 3 (ipykernel)",
   "language": "python",
   "name": "python3"
  },
  "language_info": {
   "codemirror_mode": {
    "name": "ipython",
    "version": 3
   },
   "file_extension": ".py",
   "mimetype": "text/x-python",
   "name": "python",
   "nbconvert_exporter": "python",
   "pygments_lexer": "ipython3",
   "version": "3.9.2"
  }
 },
 "nbformat": 4,
 "nbformat_minor": 1
}
