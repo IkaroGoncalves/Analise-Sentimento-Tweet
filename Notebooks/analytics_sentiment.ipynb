{
 "cells": [
  {
   "cell_type": "markdown",
   "metadata": {
    "id": "scUWvEjRG8Le"
   },
   "source": [
    "**Analise de sentimento**"
   ]
  },
  {
   "cell_type": "code",
   "execution_count": null,
   "metadata": {},
   "outputs": [],
   "source": [
    "pip install vaderSentiment"
   ]
  },
  {
   "cell_type": "code",
   "execution_count": null,
   "metadata": {
    "id": "ifOrJMB7rtah"
   },
   "outputs": [],
   "source": [
    "pip install mplcyberpunk"
   ]
  },
  {
   "cell_type": "code",
   "execution_count": 3,
   "metadata": {
    "id": "rpWnDJhRH-rF"
   },
   "outputs": [],
   "source": [
    "from vaderSentiment.vaderSentiment import SentimentIntensityAnalyzer\n",
    "from nltk.sentiment.vader import SentimentIntensityAnalyzer as SIA\n",
    "import pandas as pd\n",
    "import nltk\n",
    "import re\n",
    "import matplotlib.pyplot as plt\n",
    "import mplcyberpunk\n",
    "plt.style.use('cyberpunk')\n",
    "import seaborn as sns\n"
   ]
  },
  {
   "cell_type": "code",
   "execution_count": 4,
   "metadata": {
    "id": "a0O2NKYUHEte"
   },
   "outputs": [],
   "source": [
    "DF_Analytcs_Sentiment = pd.read_csv('df_analytics_sentiment.csv')"
   ]
  },
  {
   "cell_type": "code",
   "execution_count": null,
   "metadata": {
    "colab": {
     "base_uri": "https://localhost:8080/"
    },
    "executionInfo": {
     "elapsed": 35,
     "status": "ok",
     "timestamp": 1681909204103,
     "user": {
      "displayName": "Ikaro Gonçalves",
      "userId": "02612895897293769036"
     },
     "user_tz": 180
    },
    "id": "QA2cu123HsNi",
    "outputId": "7d24a999-6036-4eaa-d539-d24ea4d55c27"
   },
   "outputs": [],
   "source": [
    "DF_Analytcs_Sentiment.shape"
   ]
  },
  {
   "cell_type": "code",
   "execution_count": null,
   "metadata": {
    "id": "i4DowfRQHwbC"
   },
   "outputs": [],
   "source": [
    "DF_Analytcs_Sentiment.info()"
   ]
  },
  {
   "cell_type": "code",
   "execution_count": 7,
   "metadata": {
    "id": "fiYer-cyH1Fv"
   },
   "outputs": [],
   "source": [
    "Analyzer_Text = SentimentIntensityAnalyzer()"
   ]
  },
  {
   "cell_type": "code",
   "execution_count": null,
   "metadata": {
    "colab": {
     "base_uri": "https://localhost:8080/"
    },
    "executionInfo": {
     "elapsed": 520,
     "status": "ok",
     "timestamp": 1681909204599,
     "user": {
      "displayName": "Ikaro Gonçalves",
      "userId": "02612895897293769036"
     },
     "user_tz": 180
    },
    "id": "xJIggcBQJP1E",
    "outputId": "0a3ddabf-d911-49e2-af4d-a8d6c8c45df7"
   },
   "outputs": [],
   "source": [
    "Analyzer_Text"
   ]
  },
  {
   "cell_type": "code",
   "execution_count": 9,
   "metadata": {
    "id": "nXc3w5hSJP8_"
   },
   "outputs": [],
   "source": [
    "DF_Analytcs_Sentiment['Percepção_usuários_TWT']= DF_Analytcs_Sentiment['Tweets_Tratados'].apply(lambda i: Analyzer_Text.polarity_scores(' '.join(re.findall(r'\\w+',i.lower()))))"
   ]
  },
  {
   "cell_type": "code",
   "execution_count": null,
   "metadata": {
    "id": "fdFSYJxzJP_Z"
   },
   "outputs": [],
   "source": [
    "display(DF_Analytcs_Sentiment)"
   ]
  },
  {
   "cell_type": "code",
   "execution_count": null,
   "metadata": {
    "id": "LVsvE6R4JQBp"
   },
   "outputs": [],
   "source": [
    "DF_Analytcs_Sentiment['Percepção_usuários_TWT']"
   ]
  },
  {
   "cell_type": "code",
   "execution_count": 12,
   "metadata": {
    "id": "WKa9crsBjBk5"
   },
   "outputs": [],
   "source": [
    "DF_Analytcs_Sentiment ['Positivo'] = DF_Analytcs_Sentiment['Percepção_usuários_TWT'].apply(lambda i: i['pos'] )\n",
    "DF_Analytcs_Sentiment ['Neutro'] = DF_Analytcs_Sentiment['Percepção_usuários_TWT'].apply(lambda i: i['neu'] )\n",
    "DF_Analytcs_Sentiment ['Negativo'] = DF_Analytcs_Sentiment['Percepção_usuários_TWT'].apply(lambda i: i['neg'] )\n",
    "DF_Analytcs_Sentiment ['Composicao'] = DF_Analytcs_Sentiment['Percepção_usuários_TWT'].apply(lambda i: i['compound'] )"
   ]
  },
  {
   "cell_type": "code",
   "execution_count": null,
   "metadata": {
    "id": "1v8SHC-WjB2F"
   },
   "outputs": [],
   "source": [
    "DF_Analytcs_Sentiment.head(10)"
   ]
  },
  {
   "cell_type": "code",
   "execution_count": 14,
   "metadata": {
    "id": "6kgH4SIIjB4_"
   },
   "outputs": [],
   "source": [
    "sentiment = []"
   ]
  },
  {
   "cell_type": "code",
   "execution_count": 15,
   "metadata": {
    "id": "Lx-f5L3inbJU"
   },
   "outputs": [],
   "source": [
    "for i in DF_Analytcs_Sentiment['Composicao']:\n",
    "  if i >= 0.05:\n",
    "    sentiment.append('Otimismo')\n",
    "  elif i < (-0.05):\n",
    "    sentiment.append('Pessimismo')\n",
    "  else:\n",
    "    sentiment.append('Neutro')"
   ]
  },
  {
   "cell_type": "code",
   "execution_count": null,
   "metadata": {
    "id": "yIDxk7Zin2ki"
   },
   "outputs": [],
   "source": [
    "sentiment"
   ]
  },
  {
   "cell_type": "code",
   "execution_count": 17,
   "metadata": {
    "id": "rKkr2cxFongn"
   },
   "outputs": [],
   "source": [
    "DF_Analytcs_Sentiment['Sentimento']=sentiment"
   ]
  },
  {
   "cell_type": "code",
   "execution_count": null,
   "metadata": {
    "id": "hPpgRrBOphQ7"
   },
   "outputs": [],
   "source": [
    "DF_Analytcs_Sentiment.head()"
   ]
  },
  {
   "cell_type": "code",
   "execution_count": null,
   "metadata": {
    "id": "Z2zjTNRPqOty"
   },
   "outputs": [],
   "source": [
    "DF_Analytcs_Sentiment['Sentimento'].value_counts()"
   ]
  },
  {
   "cell_type": "code",
   "execution_count": null,
   "metadata": {
    "id": "MOPlhOotsaWb"
   },
   "outputs": [],
   "source": [
    "plt.figure(figsize=(30,10))"
   ]
  },
  {
   "cell_type": "code",
   "execution_count": null,
   "metadata": {
    "colab": {
     "base_uri": "https://localhost:8080/",
     "height": 462
    },
    "executionInfo": {
     "elapsed": 332,
     "status": "ok",
     "timestamp": 1681909978501,
     "user": {
      "displayName": "Ikaro Gonçalves",
      "userId": "02612895897293769036"
     },
     "user_tz": 180
    },
    "id": "eNYZ6Y0wsnF6",
    "outputId": "178ac786-c8fa-4be3-ec03-1d756b8c6121"
   },
   "outputs": [],
   "source": [
    "Grafico_Sentiment = sns.countplot(data = DF_Analytcs_Sentiment, y= 'Sentimento', palette = ['white', 'green','red'], saturation=0.97)\n",
    "plt.show(Grafico_Sentiment)"
   ]
  },
  {
   "cell_type": "code",
   "execution_count": null,
   "metadata": {
    "id": "oJaL0kVTr3_g",
    "outputId": "ea7752ea-cda2-4b05-9915-0e473efec6e3"
   },
   "outputs": [],
   "source": [
    "grafico_hour = sns.lineplot(data = DF_Analytcs_Sentiment, y = 'Sentimento', x = 'Hora')\n"
   ]
  },
  {
   "cell_type": "code",
   "execution_count": 27,
   "metadata": {
    "id": "osAJGfJ2r3_h"
   },
   "outputs": [],
   "source": [
    "DF_Analytcs_Sentiment_Final = DF_Analytcs_Sentiment[['Data', 'Hora', 'ID', 'Tweets','Tweets_Tratados', 'Sentimento']]"
   ]
  },
  {
   "cell_type": "code",
   "execution_count": 28,
   "metadata": {
    "id": "broHBWFzr3_h"
   },
   "outputs": [],
   "source": [
    "DF_Analytcs_Sentiment_Final.to_csv('df_analytcs_sentiment_final.csv', sep = ',', index = False)"
   ]
  }
 ],
 "metadata": {
  "colab": {
   "provenance": []
  },
  "kernelspec": {
   "display_name": "Python 3 (ipykernel)",
   "language": "python",
   "name": "python3"
  },
  "language_info": {
   "codemirror_mode": {
    "name": "ipython",
    "version": 3
   },
   "file_extension": ".py",
   "mimetype": "text/x-python",
   "name": "python",
   "nbconvert_exporter": "python",
   "pygments_lexer": "ipython3",
   "version": "3.9.2"
  }
 },
 "nbformat": 4,
 "nbformat_minor": 1
}
